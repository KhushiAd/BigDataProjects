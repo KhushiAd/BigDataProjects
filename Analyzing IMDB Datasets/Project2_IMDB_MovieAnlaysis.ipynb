{
 "cells": [
  {
   "cell_type": "markdown",
   "id": "73bc9548",
   "metadata": {},
   "source": [
    "# Analysis of IMDB Data"
   ]
  },
  {
   "cell_type": "markdown",
   "id": "4b3da555",
   "metadata": {},
   "source": [
    "We will analyze a subset of IMDB's actors, genres, movie actors, and movie ratings data. This dataset comes to us from Kaggle (https://www.kaggle.com/datasets/ashirwadsangwan/imdb-dataset) although we have taken steps to pull this data into a publis s3 bucket: \n",
    "\n",
    "* s3://cis9760-lecture9-movieanalysis/name.basics.tsv ---> (actors)\n",
    "* s3://cis9760-lecture9-movieanalysis/title.basics.tsv ---> (genres)\n",
    "* s3://cis9760-lecture9-movieanalysis/title.principals.tsv ---> (movie actors)\n",
    "* s3://cis9760-lecture9-movieanalysis/title.ratings.tsv ---> (movie ratings)"
   ]
  },
  {
   "cell_type": "markdown",
   "id": "bfb57a80",
   "metadata": {},
   "source": [
    "# Content\n",
    "\n",
    "**<br />name.basics.tsv.gz – Contains the following information for names:**\n",
    "<br />nconst (string) - alphanumeric unique identifier of the name/person.\n",
    "<br />primaryName (string)– name by which the person is most often credited.\n",
    "<br />birthYear – in YYYY format.\n",
    "<br />deathYear – in YYYY format if applicable, else .\n",
    "<br />primaryProfession (array of strings)– the top-3 professions of the person.\n",
    "<br />knownForTitles (array of tconsts) – titles the person is known for.\n",
    "<br/><br/>\n",
    "**<br />title.basics.tsv.gz - Contains the following information for titles:**\n",
    "<br />tconst (string) - alphanumeric unique identifier of the title.\n",
    "<br />titleType (string) – the type/format of the title (e.g. movie, short, tvseries, tvepisode, video, etc).\n",
    "<br />primaryTitle (string) – the more popular title / the title used by the filmmakers on promotional materials at the point of release.\n",
    "<br />originalTitle (string) - original title, in the original language.\n",
    "<br />isAdult (boolean) - 0: non-adult title; 1: adult title.\n",
    "<br />startYear (YYYY) – represents the release year of a title. In the case of TV Series, it is the series start year.\n",
    "<br />endYear (YYYY) – TV Series end year. for all other title types.\n",
    "<br />runtimeMinutes – primary runtime of the title, in minutes.\n",
    "<br />genres (string array) – includes up to three genres associated with the title.\n",
    "<br/><br/>\n",
    "**<br />title.principals.tsv – Contains the principal cast/crew for titles:**\n",
    "<br />tconst (string) - alphanumeric unique identifier of the title.\n",
    "<br />ordering (integer) – a number to uniquely identify rows for a given titleId.\n",
    "<br />nconst (string) - alphanumeric unique identifier of the name/person.\n",
    "<br />category (string) - the category of job that person was in.\n",
    "<br />job (string) - the specific job title if applicable, else.\n",
    "<br />characters (string) - the name of the character played if applicable, else.\n",
    "<br/><br/>\n",
    "**<br />title.ratings.tsv.gz – Contains the IMDb rating and votes information for titles:**\n",
    "<br />tconst (string) - alphanumeric unique identifier of the title.\n",
    "<br />averageRating – weighted average of all the individual user ratings.\n",
    "<br />numVotes - number of votes the title has received."
   ]
  },
  {
   "cell_type": "markdown",
   "id": "0a6597bc",
   "metadata": {},
   "source": [
    "# PART 1 - Installation and Initial Setup"
   ]
  },
  {
   "cell_type": "markdown",
   "id": "ef17e1b3",
   "metadata": {},
   "source": [
    "Begin by installing the necessary libraries that you may need to conduct your analysis. At the very least, you must install pandas and matplotlib"
   ]
  },
  {
   "cell_type": "code",
   "execution_count": 1,
   "id": "5a20c821",
   "metadata": {},
   "outputs": [
    {
     "data": {
      "text/html": [
       "Current session configs: <tt>{'conf': {'spark.pyspark.python': 'python3', 'spark.pyspark.virtualenv.enabled': 'true', 'spark.pyspark.virtualenv.type': 'native', 'spark.pyspark.virtualenv.bin.path': '/usr/bin/virtualenv'}, 'kind': 'pyspark'}</tt><br>"
      ],
      "text/plain": [
       "<IPython.core.display.HTML object>"
      ]
     },
     "metadata": {},
     "output_type": "display_data"
    },
    {
     "data": {
      "text/html": [
       "No active sessions."
      ],
      "text/plain": [
       "<IPython.core.display.HTML object>"
      ]
     },
     "metadata": {},
     "output_type": "display_data"
    }
   ],
   "source": [
    "%%info"
   ]
  },
  {
   "cell_type": "markdown",
   "id": "e0baad00",
   "metadata": {},
   "source": [
    "Let's install the necessary packages here"
   ]
  },
  {
   "cell_type": "code",
   "execution_count": 2,
   "id": "3a6bef25",
   "metadata": {},
   "outputs": [
    {
     "data": {
      "application/vnd.jupyter.widget-view+json": {
       "model_id": "c318bc0929664b0f86aa66448424c92c",
       "version_major": 2,
       "version_minor": 0
      },
      "text/plain": [
       "VBox()"
      ]
     },
     "metadata": {},
     "output_type": "display_data"
    },
    {
     "name": "stdout",
     "output_type": "stream",
     "text": [
      "Starting Spark application\n"
     ]
    },
    {
     "data": {
      "text/html": [
       "<table>\n",
       "<tr><th>ID</th><th>YARN Application ID</th><th>Kind</th><th>State</th><th>Spark UI</th><th>Driver log</th><th>Current session?</th></tr><tr><td>3</td><td>application_1683323873298_0004</td><td>pyspark</td><td>idle</td><td><a target=\"_blank\" href=\"http://ip-172-31-21-237.us-east-2.compute.internal:20888/proxy/application_1683323873298_0004/\">Link</a></td><td><a target=\"_blank\" href=\"http://ip-172-31-16-75.us-east-2.compute.internal:8042/node/containerlogs/container_1683323873298_0004_01_000001/livy\">Link</a></td><td>✔</td></tr></table>"
      ],
      "text/plain": [
       "<IPython.core.display.HTML object>"
      ]
     },
     "metadata": {},
     "output_type": "display_data"
    },
    {
     "data": {
      "application/vnd.jupyter.widget-view+json": {
       "model_id": "",
       "version_major": 2,
       "version_minor": 0
      },
      "text/plain": [
       "FloatProgress(value=0.0, bar_style='info', description='Progress:', layout=Layout(height='25px', width='50%'),…"
      ]
     },
     "metadata": {},
     "output_type": "display_data"
    },
    {
     "name": "stdout",
     "output_type": "stream",
     "text": [
      "SparkSession available as 'spark'.\n"
     ]
    },
    {
     "data": {
      "application/vnd.jupyter.widget-view+json": {
       "model_id": "",
       "version_major": 2,
       "version_minor": 0
      },
      "text/plain": [
       "FloatProgress(value=0.0, bar_style='info', description='Progress:', layout=Layout(height='25px', width='50%'),…"
      ]
     },
     "metadata": {},
     "output_type": "display_data"
    },
    {
     "name": "stdout",
     "output_type": "stream",
     "text": [
      "Collecting pandas==1.0.3\n",
      "  Using cached https://files.pythonhosted.org/packages/4a/6a/94b219b8ea0f2d580169e85ed1edc0163743f55aaeca8a44c2e8fc1e344e/pandas-1.0.3-cp37-cp37m-manylinux1_x86_64.whl\n",
      "Requirement already satisfied: numpy>=1.13.3 in /usr/local/lib64/python3.7/site-packages (from pandas==1.0.3)\n",
      "Collecting python-dateutil>=2.6.1 (from pandas==1.0.3)\n",
      "  Using cached https://files.pythonhosted.org/packages/36/7a/87837f39d0296e723bb9b62bbb257d0355c7f6128853c78955f57342a56d/python_dateutil-2.8.2-py2.py3-none-any.whl\n",
      "Requirement already satisfied: pytz>=2017.2 in /usr/local/lib/python3.7/site-packages (from pandas==1.0.3)\n",
      "Requirement already satisfied: six>=1.5 in /usr/local/lib/python3.7/site-packages (from python-dateutil>=2.6.1->pandas==1.0.3)\n",
      "Installing collected packages: python-dateutil, pandas\n",
      "Successfully installed pandas-1.0.3 python-dateutil-2.8.2\n",
      "\n",
      "Collecting matplotlib==3.2.1\n",
      "  Using cached https://files.pythonhosted.org/packages/b2/c2/71fcf957710f3ba1f09088b35776a799ba7dd95f7c2b195ec800933b276b/matplotlib-3.2.1-cp37-cp37m-manylinux1_x86_64.whl\n",
      "Collecting pyparsing!=2.0.4,!=2.1.2,!=2.1.6,>=2.0.1 (from matplotlib==3.2.1)\n",
      "  Using cached https://files.pythonhosted.org/packages/6c/10/a7d0fa5baea8fe7b50f448ab742f26f52b80bfca85ac2be9d35cdd9a3246/pyparsing-3.0.9-py3-none-any.whl\n",
      "Requirement already satisfied: python-dateutil>=2.1 in /mnt/tmp/1683342970404-0/lib/python3.7/site-packages (from matplotlib==3.2.1)\n",
      "Requirement already satisfied: numpy>=1.11 in /usr/local/lib64/python3.7/site-packages (from matplotlib==3.2.1)\n",
      "Collecting cycler>=0.10 (from matplotlib==3.2.1)\n",
      "  Using cached https://files.pythonhosted.org/packages/5c/f9/695d6bedebd747e5eb0fe8fad57b72fdf25411273a39791cde838d5a8f51/cycler-0.11.0-py3-none-any.whl\n",
      "Collecting kiwisolver>=1.0.1 (from matplotlib==3.2.1)\n",
      "  Using cached https://files.pythonhosted.org/packages/ab/8f/8dbe2d4efc4c0b08ec67d6efb7cc31fbfd688c80afad85f65980633b0d37/kiwisolver-1.4.4-cp37-cp37m-manylinux_2_5_x86_64.manylinux1_x86_64.whl\n",
      "Requirement already satisfied: six>=1.5 in /usr/local/lib/python3.7/site-packages (from python-dateutil>=2.1->matplotlib==3.2.1)\n",
      "Collecting typing-extensions; python_version < \"3.8\" (from kiwisolver>=1.0.1->matplotlib==3.2.1)\n",
      "  Using cached https://files.pythonhosted.org/packages/31/25/5abcd82372d3d4a3932e1fa8c3dbf9efac10cc7c0d16e78467460571b404/typing_extensions-4.5.0-py3-none-any.whl\n",
      "Installing collected packages: pyparsing, cycler, typing-extensions, kiwisolver, matplotlib\n",
      "Successfully installed cycler-0.11.0 kiwisolver-1.4.4 matplotlib-3.2.1 pyparsing-3.0.9 typing-extensions-4.5.0"
     ]
    }
   ],
   "source": [
    "sc.install_pypi_package(\"pandas==1.0.3\")\n",
    "sc.install_pypi_package(\"matplotlib==3.2.1\")"
   ]
  },
  {
   "cell_type": "markdown",
   "id": "92f337f1",
   "metadata": {},
   "source": [
    "Now, import the installed packages from the previous block below."
   ]
  },
  {
   "cell_type": "code",
   "execution_count": 3,
   "id": "b527ed37",
   "metadata": {},
   "outputs": [
    {
     "data": {
      "application/vnd.jupyter.widget-view+json": {
       "model_id": "051e9e4d3e234350bafb0dc71854aefa",
       "version_major": 2,
       "version_minor": 0
      },
      "text/plain": [
       "VBox()"
      ]
     },
     "metadata": {},
     "output_type": "display_data"
    },
    {
     "data": {
      "application/vnd.jupyter.widget-view+json": {
       "model_id": "",
       "version_major": 2,
       "version_minor": 0
      },
      "text/plain": [
       "FloatProgress(value=0.0, bar_style='info', description='Progress:', layout=Layout(height='25px', width='50%'),…"
      ]
     },
     "metadata": {},
     "output_type": "display_data"
    }
   ],
   "source": [
    "import pandas as pd\n",
    "import matplotlib.pyplot as plt\n",
    "from pyspark.sql.functions import split, col, explode,sum,avg,max,count"
   ]
  },
  {
   "cell_type": "markdown",
   "id": "9b2f109d",
   "metadata": {},
   "source": [
    "# Loading Data"
   ]
  },
  {
   "cell_type": "markdown",
   "id": "966aba52",
   "metadata": {},
   "source": [
    "Load all data from S3 into a Spark dataframe object "
   ]
  },
  {
   "cell_type": "code",
   "execution_count": 4,
   "id": "f5074486",
   "metadata": {
    "scrolled": true
   },
   "outputs": [
    {
     "data": {
      "application/vnd.jupyter.widget-view+json": {
       "model_id": "97b89403ea8944b2b655d1e9bc11c3f0",
       "version_major": 2,
       "version_minor": 0
      },
      "text/plain": [
       "VBox()"
      ]
     },
     "metadata": {},
     "output_type": "display_data"
    },
    {
     "data": {
      "application/vnd.jupyter.widget-view+json": {
       "model_id": "",
       "version_major": 2,
       "version_minor": 0
      },
      "text/plain": [
       "FloatProgress(value=0.0, bar_style='info', description='Progress:', layout=Layout(height='25px', width='50%'),…"
      ]
     },
     "metadata": {},
     "output_type": "display_data"
    }
   ],
   "source": [
    "actors = spark.read.csv('s3://cis9760-lecture9-movieanalysis/name.basics.tsv', sep=r'\\t', header=True)\n",
    "genres = spark.read.csv('s3://cis9760-lecture9-movieanalysis/title.basics.tsv', sep=r'\\t', header=True)\n",
    "movie_actors = spark.read.csv('s3://cis9760-lecture9-movieanalysis/title.principals.tsv', sep=r'\\t', header=True)\n",
    "movie_ratings = spark.read.csv('s3://cis9760-lecture9-movieanalysis/title.ratings.tsv', sep=r'\\t', header=True)"
   ]
  },
  {
   "cell_type": "markdown",
   "id": "765abec6",
   "metadata": {},
   "source": [
    "## Actors"
   ]
  },
  {
   "cell_type": "markdown",
   "id": "6bd08dc9",
   "metadata": {},
   "source": [
    "Display the schema below:"
   ]
  },
  {
   "cell_type": "code",
   "execution_count": 5,
   "id": "1eecdfcb",
   "metadata": {},
   "outputs": [
    {
     "data": {
      "application/vnd.jupyter.widget-view+json": {
       "model_id": "5efb1b05c26e429680c0b1f4917662e5",
       "version_major": 2,
       "version_minor": 0
      },
      "text/plain": [
       "VBox()"
      ]
     },
     "metadata": {},
     "output_type": "display_data"
    },
    {
     "data": {
      "application/vnd.jupyter.widget-view+json": {
       "model_id": "",
       "version_major": 2,
       "version_minor": 0
      },
      "text/plain": [
       "FloatProgress(value=0.0, bar_style='info', description='Progress:', layout=Layout(height='25px', width='50%'),…"
      ]
     },
     "metadata": {},
     "output_type": "display_data"
    },
    {
     "name": "stdout",
     "output_type": "stream",
     "text": [
      "root\n",
      " |-- nconst: string (nullable = true)\n",
      " |-- primaryName: string (nullable = true)\n",
      " |-- birthYear: string (nullable = true)\n",
      " |-- deathYear: string (nullable = true)\n",
      " |-- primaryProfession: string (nullable = true)\n",
      " |-- knownForTitles: string (nullable = true)"
     ]
    }
   ],
   "source": [
    "actors.printSchema()"
   ]
  },
  {
   "cell_type": "markdown",
   "id": "64a82266",
   "metadata": {},
   "source": [
    "Display the first 5 rows with the following columns:\n",
    "\n",
    "* `primaryName`\n",
    "* `birthYear`\n",
    "* `deathYear`\n",
    "* `knownForTitles`"
   ]
  },
  {
   "cell_type": "code",
   "execution_count": 6,
   "id": "e5d925ee",
   "metadata": {},
   "outputs": [
    {
     "data": {
      "application/vnd.jupyter.widget-view+json": {
       "model_id": "a2c7a18507be4ae9bd11b749d42d176b",
       "version_major": 2,
       "version_minor": 0
      },
      "text/plain": [
       "VBox()"
      ]
     },
     "metadata": {},
     "output_type": "display_data"
    },
    {
     "data": {
      "application/vnd.jupyter.widget-view+json": {
       "model_id": "",
       "version_major": 2,
       "version_minor": 0
      },
      "text/plain": [
       "FloatProgress(value=0.0, bar_style='info', description='Progress:', layout=Layout(height='25px', width='50%'),…"
      ]
     },
     "metadata": {},
     "output_type": "display_data"
    },
    {
     "name": "stdout",
     "output_type": "stream",
     "text": [
      "+---------------+---------+---------+--------------------+\n",
      "|    primaryName|birthYear|deathYear|      knownForTitles|\n",
      "+---------------+---------+---------+--------------------+\n",
      "|   Fred Astaire|     1899|     1987|tt0050419,tt00531...|\n",
      "|  Lauren Bacall|     1924|     2014|tt0071877,tt01170...|\n",
      "|Brigitte Bardot|     1934|       \\N|tt0054452,tt00491...|\n",
      "|   John Belushi|     1949|     1982|tt0077975,tt00725...|\n",
      "| Ingmar Bergman|     1918|     2007|tt0069467,tt00509...|\n",
      "+---------------+---------+---------+--------------------+\n",
      "only showing top 5 rows"
     ]
    }
   ],
   "source": [
    "actors.select(\"primaryName\", \"birthYear\", \"deathYear\", \"knownForTitles\").show(5)"
   ]
  },
  {
   "cell_type": "markdown",
   "id": "51442d1c",
   "metadata": {},
   "source": [
    "## Genres"
   ]
  },
  {
   "cell_type": "markdown",
   "id": "0c2b583c",
   "metadata": {},
   "source": [
    "Display the first 15 rows with the following columns:\n",
    "    \n",
    "* `titleType`\n",
    "* `primaryTitle`\n",
    "* `genres`"
   ]
  },
  {
   "cell_type": "code",
   "execution_count": 7,
   "id": "391cdac2",
   "metadata": {
    "scrolled": false
   },
   "outputs": [
    {
     "data": {
      "application/vnd.jupyter.widget-view+json": {
       "model_id": "4e3fe33401e94f86b5d686d55fc0b53d",
       "version_major": 2,
       "version_minor": 0
      },
      "text/plain": [
       "VBox()"
      ]
     },
     "metadata": {},
     "output_type": "display_data"
    },
    {
     "data": {
      "application/vnd.jupyter.widget-view+json": {
       "model_id": "",
       "version_major": 2,
       "version_minor": 0
      },
      "text/plain": [
       "FloatProgress(value=0.0, bar_style='info', description='Progress:', layout=Layout(height='25px', width='50%'),…"
      ]
     },
     "metadata": {},
     "output_type": "display_data"
    },
    {
     "name": "stdout",
     "output_type": "stream",
     "text": [
      "+---------+--------------------+--------------------+\n",
      "|titleType|        primaryTitle|              genres|\n",
      "+---------+--------------------+--------------------+\n",
      "|    short|          Carmencita|   Documentary,Short|\n",
      "|    short|Le clown et ses c...|     Animation,Short|\n",
      "|    short|      Pauvre Pierrot|Animation,Comedy,...|\n",
      "|    short|         Un bon bock|     Animation,Short|\n",
      "|    short|    Blacksmith Scene|        Comedy,Short|\n",
      "|    short|   Chinese Opium Den|               Short|\n",
      "|    short|Corbett and Court...|         Short,Sport|\n",
      "|    short|Edison Kinetoscop...|   Documentary,Short|\n",
      "|    movie|          Miss Jerry|             Romance|\n",
      "|    short| Exiting the Factory|   Documentary,Short|\n",
      "|    short|Akrobatisches Pot...|   Documentary,Short|\n",
      "|    short|The Arrival of a ...|Action,Documentar...|\n",
      "|    short|The Photographica...|   Documentary,Short|\n",
      "|    short|The Sprinkler Spr...|        Comedy,Short|\n",
      "|    short| Autour d'une cabine|     Animation,Short|\n",
      "+---------+--------------------+--------------------+\n",
      "only showing top 15 rows"
     ]
    }
   ],
   "source": [
    "genres.select(\"titleType\", \"primaryTitle\",\"genres\").show(15)"
   ]
  },
  {
   "cell_type": "markdown",
   "id": "c35ce504",
   "metadata": {},
   "source": [
    "Display the unique titles below:"
   ]
  },
  {
   "cell_type": "code",
   "execution_count": 8,
   "id": "5128f46d",
   "metadata": {
    "scrolled": false
   },
   "outputs": [
    {
     "data": {
      "application/vnd.jupyter.widget-view+json": {
       "model_id": "7c3e3b237a1e45039a46f6a88494bba8",
       "version_major": 2,
       "version_minor": 0
      },
      "text/plain": [
       "VBox()"
      ]
     },
     "metadata": {},
     "output_type": "display_data"
    },
    {
     "data": {
      "application/vnd.jupyter.widget-view+json": {
       "model_id": "",
       "version_major": 2,
       "version_minor": 0
      },
      "text/plain": [
       "FloatProgress(value=0.0, bar_style='info', description='Progress:', layout=Layout(height='25px', width='50%'),…"
      ]
     },
     "metadata": {},
     "output_type": "display_data"
    },
    {
     "name": "stdout",
     "output_type": "stream",
     "text": [
      "+------------+\n",
      "|   titleType|\n",
      "+------------+\n",
      "|    tvSeries|\n",
      "|tvMiniSeries|\n",
      "|       movie|\n",
      "|   videoGame|\n",
      "|   tvSpecial|\n",
      "|       video|\n",
      "|     tvMovie|\n",
      "|   tvEpisode|\n",
      "|     tvShort|\n",
      "|       short|\n",
      "+------------+"
     ]
    }
   ],
   "source": [
    "genres.select(\"titleType\").distinct().show(15)"
   ]
  },
  {
   "cell_type": "markdown",
   "id": "4a7a6cce",
   "metadata": {},
   "source": [
    "Display the schema below:"
   ]
  },
  {
   "cell_type": "code",
   "execution_count": 9,
   "id": "ea93031e",
   "metadata": {},
   "outputs": [
    {
     "data": {
      "application/vnd.jupyter.widget-view+json": {
       "model_id": "b3cd3b7dc17d4496964255b256420177",
       "version_major": 2,
       "version_minor": 0
      },
      "text/plain": [
       "VBox()"
      ]
     },
     "metadata": {},
     "output_type": "display_data"
    },
    {
     "data": {
      "application/vnd.jupyter.widget-view+json": {
       "model_id": "",
       "version_major": 2,
       "version_minor": 0
      },
      "text/plain": [
       "FloatProgress(value=0.0, bar_style='info', description='Progress:', layout=Layout(height='25px', width='50%'),…"
      ]
     },
     "metadata": {},
     "output_type": "display_data"
    },
    {
     "name": "stdout",
     "output_type": "stream",
     "text": [
      "root\n",
      " |-- tconst: string (nullable = true)\n",
      " |-- titleType: string (nullable = true)\n",
      " |-- primaryTitle: string (nullable = true)\n",
      " |-- originalTitle: string (nullable = true)\n",
      " |-- isAdult: string (nullable = true)\n",
      " |-- startYear: string (nullable = true)\n",
      " |-- endYear: string (nullable = true)\n",
      " |-- runtimeMinutes: string (nullable = true)\n",
      " |-- genres: string (nullable = true)"
     ]
    }
   ],
   "source": [
    "genres.printSchema()"
   ]
  },
  {
   "cell_type": "markdown",
   "id": "fa706ee4",
   "metadata": {},
   "source": [
    "## Movie Actors"
   ]
  },
  {
   "cell_type": "markdown",
   "id": "32f14042",
   "metadata": {},
   "source": [
    "Display the schema below:"
   ]
  },
  {
   "cell_type": "code",
   "execution_count": 10,
   "id": "4571eb2f",
   "metadata": {
    "scrolled": false
   },
   "outputs": [
    {
     "data": {
      "application/vnd.jupyter.widget-view+json": {
       "model_id": "31330cbbb77744d9bce7780c60ed0271",
       "version_major": 2,
       "version_minor": 0
      },
      "text/plain": [
       "VBox()"
      ]
     },
     "metadata": {},
     "output_type": "display_data"
    },
    {
     "data": {
      "application/vnd.jupyter.widget-view+json": {
       "model_id": "",
       "version_major": 2,
       "version_minor": 0
      },
      "text/plain": [
       "FloatProgress(value=0.0, bar_style='info', description='Progress:', layout=Layout(height='25px', width='50%'),…"
      ]
     },
     "metadata": {},
     "output_type": "display_data"
    },
    {
     "name": "stdout",
     "output_type": "stream",
     "text": [
      "root\n",
      " |-- tconst: string (nullable = true)\n",
      " |-- ordering: string (nullable = true)\n",
      " |-- nconst: string (nullable = true)\n",
      " |-- category: string (nullable = true)\n",
      " |-- job: string (nullable = true)\n",
      " |-- characters: string (nullable = true)"
     ]
    }
   ],
   "source": [
    "movie_actors.printSchema()"
   ]
  },
  {
   "cell_type": "markdown",
   "id": "b08eb2d6",
   "metadata": {},
   "source": [
    "Display the first 15 rows where the \"category\" column is \"self\""
   ]
  },
  {
   "cell_type": "code",
   "execution_count": 11,
   "id": "f1bb4d2e",
   "metadata": {},
   "outputs": [
    {
     "data": {
      "application/vnd.jupyter.widget-view+json": {
       "model_id": "d55c54bace8a40bfa36278697a0f43be",
       "version_major": 2,
       "version_minor": 0
      },
      "text/plain": [
       "VBox()"
      ]
     },
     "metadata": {},
     "output_type": "display_data"
    },
    {
     "data": {
      "application/vnd.jupyter.widget-view+json": {
       "model_id": "",
       "version_major": 2,
       "version_minor": 0
      },
      "text/plain": [
       "FloatProgress(value=0.0, bar_style='info', description='Progress:', layout=Layout(height='25px', width='50%'),…"
      ]
     },
     "metadata": {},
     "output_type": "display_data"
    },
    {
     "name": "stdout",
     "output_type": "stream",
     "text": [
      "+---------+--------+---------+--------+---+--------------------+\n",
      "|   tconst|ordering|   nconst|category|job|          characters|\n",
      "+---------+--------+---------+--------+---+--------------------+\n",
      "|tt0000001|       1|nm1588970|    self| \\N|         [\"Herself\"]|\n",
      "|tt0000012|       1|nm2880396|    self| \\N|         [\"Herself\"]|\n",
      "|tt0000012|       2|nm9735580|    self| \\N|         [\"Himself\"]|\n",
      "|tt0000012|       3|nm0525900|    self| \\N|         [\"Herself\"]|\n",
      "|tt0000012|       4|nm9735581|    self| \\N|         [\"Herself\"]|\n",
      "|tt0000012|       7|nm9735579|    self| \\N|         [\"Herself\"]|\n",
      "|tt0000012|       8|nm9653419|    self| \\N|         [\"Herself\"]|\n",
      "|tt0000013|       1|nm0525908|    self| \\N|         [\"Himself\"]|\n",
      "|tt0000013|       2|nm1715062|    self| \\N|         [\"Himself\"]|\n",
      "|tt0000016|       1|nm0525900|    self| \\N|[\"Herself (on the...|\n",
      "|tt0000016|       2|nm9735581|    self| \\N|[\"Herself (on the...|\n",
      "|tt0000024|       1|nm0256651|    self| \\N|[\"Herself - Empre...|\n",
      "|tt0000024|       2|nm0435118|    self| \\N|[\"Himself - Emper...|\n",
      "|tt0000028|       1|nm2350838|    self| \\N|         [\"Himself\"]|\n",
      "|tt0000028|       2|nm0525908|    self| \\N|         [\"Himself\"]|\n",
      "+---------+--------+---------+--------+---+--------------------+\n",
      "only showing top 15 rows"
     ]
    }
   ],
   "source": [
    "movie_actors.filter((movie_actors.category ==\"self\")).show(15)\n",
    "#df.groupby(\"state\")[\"last_name\"].count()"
   ]
  },
  {
   "cell_type": "markdown",
   "id": "e063e804",
   "metadata": {},
   "source": [
    "## Movie Ratings"
   ]
  },
  {
   "cell_type": "markdown",
   "id": "8d9dbbf2",
   "metadata": {},
   "source": [
    "Display the schema below:"
   ]
  },
  {
   "cell_type": "code",
   "execution_count": 12,
   "id": "394297ae",
   "metadata": {},
   "outputs": [
    {
     "data": {
      "application/vnd.jupyter.widget-view+json": {
       "model_id": "62dbd40815994ccb810e3bf76c3f888f",
       "version_major": 2,
       "version_minor": 0
      },
      "text/plain": [
       "VBox()"
      ]
     },
     "metadata": {},
     "output_type": "display_data"
    },
    {
     "data": {
      "application/vnd.jupyter.widget-view+json": {
       "model_id": "",
       "version_major": 2,
       "version_minor": 0
      },
      "text/plain": [
       "FloatProgress(value=0.0, bar_style='info', description='Progress:', layout=Layout(height='25px', width='50%'),…"
      ]
     },
     "metadata": {},
     "output_type": "display_data"
    },
    {
     "name": "stdout",
     "output_type": "stream",
     "text": [
      "root\n",
      " |-- tconst: string (nullable = true)\n",
      " |-- averageRating: string (nullable = true)\n",
      " |-- numVotes: string (nullable = true)"
     ]
    }
   ],
   "source": [
    "movie_ratings.printSchema()"
   ]
  },
  {
   "cell_type": "markdown",
   "id": "a7e38610",
   "metadata": {},
   "source": [
    "Display the first 10 rows in a descending order by the number of votes"
   ]
  },
  {
   "cell_type": "code",
   "execution_count": 13,
   "id": "95d90d02",
   "metadata": {},
   "outputs": [
    {
     "data": {
      "application/vnd.jupyter.widget-view+json": {
       "model_id": "ac982220b5944a1892894f205812a570",
       "version_major": 2,
       "version_minor": 0
      },
      "text/plain": [
       "VBox()"
      ]
     },
     "metadata": {},
     "output_type": "display_data"
    },
    {
     "data": {
      "application/vnd.jupyter.widget-view+json": {
       "model_id": "",
       "version_major": 2,
       "version_minor": 0
      },
      "text/plain": [
       "FloatProgress(value=0.0, bar_style='info', description='Progress:', layout=Layout(height='25px', width='50%'),…"
      ]
     },
     "metadata": {},
     "output_type": "display_data"
    },
    {
     "name": "stdout",
     "output_type": "stream",
     "text": [
      "+---------+-------------+--------+\n",
      "|   tconst|averageRating|numVotes|\n",
      "+---------+-------------+--------+\n",
      "|tt7430722|          6.8|    9999|\n",
      "|tt4445154|          8.1|    9997|\n",
      "|tt2229907|          6.3|    9996|\n",
      "|tt0294097|          8.0|    9994|\n",
      "|tt0264734|          6.5|    9993|\n",
      "|tt2032572|          5.2|    9991|\n",
      "|tt8860450|          6.3|    9991|\n",
      "|tt0025173|          6.6|     999|\n",
      "|tt0245247|          8.3|     999|\n",
      "|tt0062690|          6.1|     999|\n",
      "+---------+-------------+--------+\n",
      "only showing top 10 rows"
     ]
    }
   ],
   "source": [
    "movie_ratings.sort(col(\"numVotes\").desc()).show(10)"
   ]
  },
  {
   "cell_type": "markdown",
   "id": "dc6beb73",
   "metadata": {},
   "source": [
    "# Overview of Data"
   ]
  },
  {
   "cell_type": "markdown",
   "id": "6349d83b",
   "metadata": {},
   "source": [
    "Display the number of rows and columns in each dataFrame object."
   ]
  },
  {
   "cell_type": "code",
   "execution_count": 14,
   "id": "c085e8f6",
   "metadata": {
    "scrolled": true
   },
   "outputs": [
    {
     "data": {
      "application/vnd.jupyter.widget-view+json": {
       "model_id": "b50f3622633e45d3a6c0a6f451762b27",
       "version_major": 2,
       "version_minor": 0
      },
      "text/plain": [
       "VBox()"
      ]
     },
     "metadata": {},
     "output_type": "display_data"
    },
    {
     "data": {
      "application/vnd.jupyter.widget-view+json": {
       "model_id": "",
       "version_major": 2,
       "version_minor": 0
      },
      "text/plain": [
       "FloatProgress(value=0.0, bar_style='info', description='Progress:', layout=Layout(height='25px', width='50%'),…"
      ]
     },
     "metadata": {},
     "output_type": "display_data"
    },
    {
     "name": "stdout",
     "output_type": "stream",
     "text": [
      "Number of columns in Actors table is: 6\n",
      "Number of rows in Actors table is: 9706922 \n",
      "\n",
      "Number of columns in Genres table is: 9\n",
      "Number of rows in Genres table is: 6321302 \n",
      "\n",
      "Number of columns in Movie Actors table is: 6\n",
      "Number of rows in Movie Actors table is: 36468817 \n",
      "\n",
      "Number of columns in Movie Ratings table is: 3\n",
      "Number of rows in Movie Ratings table is: 993153"
     ]
    }
   ],
   "source": [
    "print(f'Number of columns in Actors table is: {len(actors.columns)}')\n",
    "print(f'Number of rows in Actors table is: {actors.count()} \\n')\n",
    "\n",
    "print(f'Number of columns in Genres table is: {len(genres.columns)}')\n",
    "print(f'Number of rows in Genres table is: {genres.count()} \\n')\n",
    "\n",
    "print(f'Number of columns in Movie Actors table is: {len(movie_actors.columns)}')\n",
    "print(f'Number of rows in Movie Actors table is: {movie_actors.count()} \\n')\n",
    "\n",
    "print(f'Number of columns in Movie Ratings table is: {len(movie_ratings.columns)}')\n",
    "print(f'Number of rows in Movie Ratings table is: {movie_ratings.count()} \\n')"
   ]
  },
  {
   "cell_type": "markdown",
   "id": "689e09d5",
   "metadata": {},
   "source": [
    "# PART 2 - Analyzing Genres"
   ]
  },
  {
   "cell_type": "markdown",
   "id": "bce79899",
   "metadata": {},
   "source": [
    "Let's now answer this question: how many unique genres are represented in this dataset?\n",
    "\n",
    "Essentially, we have the genres per movie as a list - this is useful to quickly see what each movie might be represented as but it is difficult to easily answer questions such as:\n",
    "\n",
    "* How many movies are categorized as Comedy, for instance?\n",
    "* What are the top 20 most popular genres available?"
   ]
  },
  {
   "cell_type": "markdown",
   "id": "3f5ea0ad",
   "metadata": {},
   "source": [
    "## Association Table\n",
    "\n",
    "We need to \"break out\" these genres from the tconst? One common approach to take is to build an association table mapping a single tconst multiple times to each distinct genre.\n",
    "\n",
    "For instance, given the following:\n",
    "\n",
    "\n",
    "| tconst   | titleType  |genres |\n",
    "|----------|------------|-------|\n",
    "| abcd123  | XXX        |a,b,c  |\n",
    "\n",
    "We would like to derive something like:\n",
    "\n",
    "| tconst   |  titleType |genre |\n",
    "|----------|------------|------|\n",
    "| abcd123  | XXX        |a     |\n",
    "| abcd123  | XXX        |b     |\n",
    "| abcd123  | XXX        |c     |\n",
    "\n",
    "\n",
    "What this does is allow us to then perform a myriad of rollups and other analysis on this association table which can aid us in answering the questions asked above.\n",
    "\n",
    "Implement the code necessary to derive the table described from the data set"
   ]
  },
  {
   "cell_type": "code",
   "execution_count": 15,
   "id": "61349598",
   "metadata": {},
   "outputs": [
    {
     "data": {
      "application/vnd.jupyter.widget-view+json": {
       "model_id": "442599b1675a43369cd2ad4c57e583fc",
       "version_major": 2,
       "version_minor": 0
      },
      "text/plain": [
       "VBox()"
      ]
     },
     "metadata": {},
     "output_type": "display_data"
    },
    {
     "data": {
      "application/vnd.jupyter.widget-view+json": {
       "model_id": "",
       "version_major": 2,
       "version_minor": 0
      },
      "text/plain": [
       "FloatProgress(value=0.0, bar_style='info', description='Progress:', layout=Layout(height='25px', width='50%'),…"
      ]
     },
     "metadata": {},
     "output_type": "display_data"
    }
   ],
   "source": [
    "breakout_genre = genres.withColumn('genres',explode(split('genres',\",\")))"
   ]
  },
  {
   "cell_type": "markdown",
   "id": "3f27ead6",
   "metadata": {},
   "source": [
    "Display the first 10 rows of your association table below"
   ]
  },
  {
   "cell_type": "code",
   "execution_count": 16,
   "id": "209a9abd",
   "metadata": {},
   "outputs": [
    {
     "data": {
      "application/vnd.jupyter.widget-view+json": {
       "model_id": "c373f16ab2e64adb915fd959f2538726",
       "version_major": 2,
       "version_minor": 0
      },
      "text/plain": [
       "VBox()"
      ]
     },
     "metadata": {},
     "output_type": "display_data"
    },
    {
     "data": {
      "application/vnd.jupyter.widget-view+json": {
       "model_id": "",
       "version_major": 2,
       "version_minor": 0
      },
      "text/plain": [
       "FloatProgress(value=0.0, bar_style='info', description='Progress:', layout=Layout(height='25px', width='50%'),…"
      ]
     },
     "metadata": {},
     "output_type": "display_data"
    },
    {
     "name": "stdout",
     "output_type": "stream",
     "text": [
      "+---------+---------+--------------------+--------------------+-------+---------+-------+--------------+-----------+\n",
      "|   tconst|titleType|        primaryTitle|       originalTitle|isAdult|startYear|endYear|runtimeMinutes|     genres|\n",
      "+---------+---------+--------------------+--------------------+-------+---------+-------+--------------+-----------+\n",
      "|tt0000001|    short|          Carmencita|          Carmencita|      0|     1894|     \\N|             1|Documentary|\n",
      "|tt0000001|    short|          Carmencita|          Carmencita|      0|     1894|     \\N|             1|      Short|\n",
      "|tt0000002|    short|Le clown et ses c...|Le clown et ses c...|      0|     1892|     \\N|             5|  Animation|\n",
      "|tt0000002|    short|Le clown et ses c...|Le clown et ses c...|      0|     1892|     \\N|             5|      Short|\n",
      "|tt0000003|    short|      Pauvre Pierrot|      Pauvre Pierrot|      0|     1892|     \\N|             4|  Animation|\n",
      "|tt0000003|    short|      Pauvre Pierrot|      Pauvre Pierrot|      0|     1892|     \\N|             4|     Comedy|\n",
      "|tt0000003|    short|      Pauvre Pierrot|      Pauvre Pierrot|      0|     1892|     \\N|             4|    Romance|\n",
      "|tt0000004|    short|         Un bon bock|         Un bon bock|      0|     1892|     \\N|            \\N|  Animation|\n",
      "|tt0000004|    short|         Un bon bock|         Un bon bock|      0|     1892|     \\N|            \\N|      Short|\n",
      "|tt0000005|    short|    Blacksmith Scene|    Blacksmith Scene|      0|     1893|     \\N|             1|     Comedy|\n",
      "+---------+---------+--------------------+--------------------+-------+---------+-------+--------------+-----------+\n",
      "only showing top 10 rows"
     ]
    }
   ],
   "source": [
    "breakout_genre.show(10)"
   ]
  },
  {
   "cell_type": "markdown",
   "id": "28a6cb33",
   "metadata": {},
   "source": [
    "## Total Unique Genres"
   ]
  },
  {
   "cell_type": "markdown",
   "id": "3da774ae",
   "metadata": {},
   "source": [
    "**What is the total number of unique genres available in the \"movie\" title type?**"
   ]
  },
  {
   "cell_type": "code",
   "execution_count": 17,
   "id": "4e41deb8",
   "metadata": {
    "scrolled": true
   },
   "outputs": [
    {
     "data": {
      "application/vnd.jupyter.widget-view+json": {
       "model_id": "71fd286621e04b138c0bf6a5a128e29b",
       "version_major": 2,
       "version_minor": 0
      },
      "text/plain": [
       "VBox()"
      ]
     },
     "metadata": {},
     "output_type": "display_data"
    },
    {
     "data": {
      "application/vnd.jupyter.widget-view+json": {
       "model_id": "",
       "version_major": 2,
       "version_minor": 0
      },
      "text/plain": [
       "FloatProgress(value=0.0, bar_style='info', description='Progress:', layout=Layout(height='25px', width='50%'),…"
      ]
     },
     "metadata": {},
     "output_type": "display_data"
    },
    {
     "name": "stdout",
     "output_type": "stream",
     "text": [
      "29"
     ]
    }
   ],
   "source": [
    "breakout_genre.select(\"genres\").distinct().count()"
   ]
  },
  {
   "cell_type": "markdown",
   "id": "a7808ac8",
   "metadata": {},
   "source": [
    "**What are the unique genres available?**"
   ]
  },
  {
   "cell_type": "code",
   "execution_count": 18,
   "id": "1c502d5f",
   "metadata": {},
   "outputs": [
    {
     "data": {
      "application/vnd.jupyter.widget-view+json": {
       "model_id": "53274b39a9a0437fb3445cafcb4091de",
       "version_major": 2,
       "version_minor": 0
      },
      "text/plain": [
       "VBox()"
      ]
     },
     "metadata": {},
     "output_type": "display_data"
    },
    {
     "data": {
      "application/vnd.jupyter.widget-view+json": {
       "model_id": "",
       "version_major": 2,
       "version_minor": 0
      },
      "text/plain": [
       "FloatProgress(value=0.0, bar_style='info', description='Progress:', layout=Layout(height='25px', width='50%'),…"
      ]
     },
     "metadata": {},
     "output_type": "display_data"
    },
    {
     "name": "stdout",
     "output_type": "stream",
     "text": [
      "+-----------+\n",
      "|     genres|\n",
      "+-----------+\n",
      "|    Mystery|\n",
      "|    Musical|\n",
      "|      Sport|\n",
      "|     Action|\n",
      "|  Talk-Show|\n",
      "|    Romance|\n",
      "|   Thriller|\n",
      "|         \\N|\n",
      "| Reality-TV|\n",
      "|     Family|\n",
      "|    Fantasy|\n",
      "|    History|\n",
      "|  Animation|\n",
      "|      Short|\n",
      "|  Film-Noir|\n",
      "|     Sci-Fi|\n",
      "|       News|\n",
      "|      Drama|\n",
      "|Documentary|\n",
      "|    Western|\n",
      "|     Comedy|\n",
      "|      Crime|\n",
      "|        War|\n",
      "|  Game-Show|\n",
      "|      Adult|\n",
      "|      Music|\n",
      "|  Biography|\n",
      "|  Adventure|\n",
      "|     Horror|\n",
      "+-----------+"
     ]
    }
   ],
   "source": [
    "breakout_genre.select(\"genres\").distinct().show(29)"
   ]
  },
  {
   "cell_type": "markdown",
   "id": "85bae74f",
   "metadata": {},
   "source": [
    "**Oops! Something is off!**"
   ]
  },
  {
   "cell_type": "code",
   "execution_count": 19,
   "id": "670fb90f",
   "metadata": {
    "scrolled": false
   },
   "outputs": [
    {
     "data": {
      "application/vnd.jupyter.widget-view+json": {
       "model_id": "baf119314b94471c8e2cb288a4df29b4",
       "version_major": 2,
       "version_minor": 0
      },
      "text/plain": [
       "VBox()"
      ]
     },
     "metadata": {},
     "output_type": "display_data"
    },
    {
     "data": {
      "application/vnd.jupyter.widget-view+json": {
       "model_id": "",
       "version_major": 2,
       "version_minor": 0
      },
      "text/plain": [
       "FloatProgress(value=0.0, bar_style='info', description='Progress:', layout=Layout(height='25px', width='50%'),…"
      ]
     },
     "metadata": {},
     "output_type": "display_data"
    },
    {
     "name": "stdout",
     "output_type": "stream",
     "text": [
      "+-----------+\n",
      "|     genres|\n",
      "+-----------+\n",
      "|    Mystery|\n",
      "|    Musical|\n",
      "|      Sport|\n",
      "|     Action|\n",
      "|  Talk-Show|\n",
      "|    Romance|\n",
      "|   Thriller|\n",
      "| Reality-TV|\n",
      "|     Family|\n",
      "|    Fantasy|\n",
      "|    History|\n",
      "|  Animation|\n",
      "|  Film-Noir|\n",
      "|      Short|\n",
      "|     Sci-Fi|\n",
      "|       News|\n",
      "|      Drama|\n",
      "|Documentary|\n",
      "|    Western|\n",
      "|     Comedy|\n",
      "|      Crime|\n",
      "|        War|\n",
      "|  Game-Show|\n",
      "|      Adult|\n",
      "|      Music|\n",
      "|  Biography|\n",
      "|  Adventure|\n",
      "|     Horror|\n",
      "+-----------+"
     ]
    }
   ],
   "source": [
    "breakout_genre = breakout_genre.filter((col(\"genres\") != \"\\\\N\") & (col(\"genres\").isNotNull()))\n",
    "breakout_genre.select(\"genres\").distinct().show(29)"
   ]
  },
  {
   "cell_type": "markdown",
   "id": "fe9a6b8a",
   "metadata": {},
   "source": [
    "## Top Genres by Movies\n",
    "\n",
    "Now let's find the highest rated genres in this dataset by rolling up genres."
   ]
  },
  {
   "cell_type": "markdown",
   "id": "b30e0b96",
   "metadata": {},
   "source": [
    "### Average Rating / Genre"
   ]
  },
  {
   "cell_type": "markdown",
   "id": "59242911",
   "metadata": {},
   "source": [
    "So now, let's unroll our distinct count a bit and display the per average rating value of per genre.\n",
    "\n",
    "The expected output should be:\n",
    "\n",
    "| genre | averageRating |\n",
    "|-------------|------------|\n",
    "| a     | 8.5         |\n",
    "| b     | 6.3         |\n",
    "| c     | 7.2         |\n",
    "\n",
    "Or something to that effect."
   ]
  },
  {
   "cell_type": "markdown",
   "id": "f505b1a2",
   "metadata": {},
   "source": [
    "First, let's join our two dataframes (movie ratings and genres) by tconst"
   ]
  },
  {
   "cell_type": "code",
   "execution_count": 20,
   "id": "9c3390dc",
   "metadata": {
    "scrolled": false
   },
   "outputs": [
    {
     "data": {
      "application/vnd.jupyter.widget-view+json": {
       "model_id": "f9408fcdfb7f4491864fcfaeb50a1737",
       "version_major": 2,
       "version_minor": 0
      },
      "text/plain": [
       "VBox()"
      ]
     },
     "metadata": {},
     "output_type": "display_data"
    },
    {
     "data": {
      "application/vnd.jupyter.widget-view+json": {
       "model_id": "",
       "version_major": 2,
       "version_minor": 0
      },
      "text/plain": [
       "FloatProgress(value=0.0, bar_style='info', description='Progress:', layout=Layout(height='25px', width='50%'),…"
      ]
     },
     "metadata": {},
     "output_type": "display_data"
    },
    {
     "name": "stdout",
     "output_type": "stream",
     "text": [
      "+-----------+-------------+\n",
      "|     genres|averageRating|\n",
      "+-----------+-------------+\n",
      "|Documentary|          5.1|\n",
      "|      Short|          5.1|\n",
      "|Documentary|          5.2|\n",
      "|      Short|          5.2|\n",
      "|     Comedy|          5.2|\n",
      "|      Short|          5.2|\n",
      "|     Comedy|          6.0|\n",
      "|     Horror|          6.0|\n",
      "|      Short|          6.0|\n",
      "|Documentary|          4.9|\n",
      "|      Short|          4.9|\n",
      "|      Short|          4.7|\n",
      "|    Fantasy|          6.3|\n",
      "|     Horror|          6.3|\n",
      "|      Short|          6.3|\n",
      "|      Short|          7.3|\n",
      "|     Comedy|          5.4|\n",
      "|      Short|          5.4|\n",
      "|      Short|          5.2|\n",
      "|      Short|          5.1|\n",
      "+-----------+-------------+\n",
      "only showing top 20 rows"
     ]
    }
   ],
   "source": [
    "movie_rating_genre = movie_ratings.join(breakout_genre,movie_ratings.tconst==genres.tconst,\"inner\").select(\"genres\",\"averageRating\")\n",
    "movie_rating_genre.show()"
   ]
  },
  {
   "cell_type": "markdown",
   "id": "5ac38a61",
   "metadata": {},
   "source": [
    "Now, let's aggregate along the averageRating column to get a resultant dataframe that displays average rating per genre."
   ]
  },
  {
   "cell_type": "code",
   "execution_count": 21,
   "id": "7f8424c8",
   "metadata": {
    "scrolled": true
   },
   "outputs": [
    {
     "data": {
      "application/vnd.jupyter.widget-view+json": {
       "model_id": "2551d33fd73e44ac9500f9c33e2855b8",
       "version_major": 2,
       "version_minor": 0
      },
      "text/plain": [
       "VBox()"
      ]
     },
     "metadata": {},
     "output_type": "display_data"
    },
    {
     "data": {
      "application/vnd.jupyter.widget-view+json": {
       "model_id": "",
       "version_major": 2,
       "version_minor": 0
      },
      "text/plain": [
       "FloatProgress(value=0.0, bar_style='info', description='Progress:', layout=Layout(height='25px', width='50%'),…"
      ]
     },
     "metadata": {},
     "output_type": "display_data"
    },
    {
     "name": "stdout",
     "output_type": "stream",
     "text": [
      "+-----------+------------------+\n",
      "|      genre|        avg_rating|\n",
      "+-----------+------------------+\n",
      "|    Mystery| 7.215679885737242|\n",
      "|    Musical| 6.544660194174757|\n",
      "|     Action|6.9510294385590425|\n",
      "|      Sport| 6.995047301057317|\n",
      "|  Talk-Show|6.5984121590312315|\n",
      "|    Romance| 6.784248163628034|\n",
      "|   Thriller|  6.31268607925971|\n",
      "| Reality-TV|6.8388670038945385|\n",
      "|     Family| 6.989731258092651|\n",
      "|    Fantasy| 7.093731229320438|\n",
      "|    History| 7.304633656741386|\n",
      "|  Animation| 7.046786054557058|\n",
      "|  Film-Noir| 6.636246786632392|\n",
      "|      Short|  6.79936349852612|\n",
      "|     Sci-Fi| 6.747496248735038|\n",
      "|       News| 6.467539496781745|\n",
      "|      Drama| 7.018453629522856|\n",
      "|Documentary|  7.24174057649667|\n",
      "|    Western| 7.109783409459261|\n",
      "|     Comedy| 6.919198961910337|\n",
      "+-----------+------------------+\n",
      "only showing top 20 rows"
     ]
    }
   ],
   "source": [
    "avg_rating_genre = movie_rating_genre.groupBy(col(\"genres\").alias(\"genre\")).agg(avg(\"averageRating\").alias(\"avg_rating\"))\n",
    "avg_rating_genre.show()"
   ]
  },
  {
   "cell_type": "markdown",
   "id": "31bbbe8a",
   "metadata": {},
   "source": [
    "### Horizontal Bar Chart of Top Genres\n",
    "\n",
    "With this data available, let us now build a barchart of all genres \n",
    "\n",
    "**HINT**: don't forget about the matplotlib magic!\n",
    "\n",
    "```\n",
    "%matplot plt\n",
    "```"
   ]
  },
  {
   "cell_type": "code",
   "execution_count": 22,
   "id": "52189e81",
   "metadata": {
    "scrolled": true
   },
   "outputs": [
    {
     "data": {
      "application/vnd.jupyter.widget-view+json": {
       "model_id": "f2f6652ec7654ed8af7988c3e37e7a40",
       "version_major": 2,
       "version_minor": 0
      },
      "text/plain": [
       "VBox()"
      ]
     },
     "metadata": {},
     "output_type": "display_data"
    },
    {
     "data": {
      "application/vnd.jupyter.widget-view+json": {
       "model_id": "",
       "version_major": 2,
       "version_minor": 0
      },
      "text/plain": [
       "FloatProgress(value=0.0, bar_style='info', description='Progress:', layout=Layout(height='25px', width='50%'),…"
      ]
     },
     "metadata": {},
     "output_type": "display_data"
    },
    {
     "name": "stdout",
     "output_type": "stream",
     "text": [
      "          genre  avg_rating\n",
      "0       History    7.304634\n",
      "1   Documentary    7.241741\n",
      "2       Mystery    7.215680\n",
      "3     Biography    7.180115\n",
      "4         Crime    7.165008\n",
      "5       Western    7.109783\n",
      "6       Fantasy    7.093731\n",
      "7     Adventure    7.056730\n",
      "8     Animation    7.046786\n",
      "9           War    7.026155\n",
      "10        Drama    7.018454\n",
      "11        Sport    6.995047\n",
      "12       Family    6.989731\n",
      "13       Action    6.951029\n",
      "14       Comedy    6.919199\n",
      "15        Music    6.890572\n",
      "16   Reality-TV    6.838867\n",
      "17        Short    6.799363\n",
      "18      Romance    6.784248\n",
      "19       Sci-Fi    6.747496\n",
      "20    Game-Show    6.679024\n",
      "21    Film-Noir    6.636247\n",
      "22    Talk-Show    6.598412\n",
      "23      Musical    6.544660\n",
      "24         News    6.467539\n",
      "25        Adult    6.331053\n",
      "26     Thriller    6.312686\n",
      "27       Horror    6.033532"
     ]
    }
   ],
   "source": [
    "avg_rating_genre_pd = avg_rating_genre.orderBy(col(\"avg_rating\").desc()).toPandas()\n",
    "avg_rating_genre_pd"
   ]
  },
  {
   "cell_type": "code",
   "execution_count": 23,
   "id": "2594600c",
   "metadata": {
    "scrolled": false
   },
   "outputs": [
    {
     "data": {
      "application/vnd.jupyter.widget-view+json": {
       "model_id": "9c13e8cbfaa0420397600954777420ca",
       "version_major": 2,
       "version_minor": 0
      },
      "text/plain": [
       "VBox()"
      ]
     },
     "metadata": {},
     "output_type": "display_data"
    },
    {
     "data": {
      "application/vnd.jupyter.widget-view+json": {
       "model_id": "",
       "version_major": 2,
       "version_minor": 0
      },
      "text/plain": [
       "FloatProgress(value=0.0, bar_style='info', description='Progress:', layout=Layout(height='25px', width='50%'),…"
      ]
     },
     "metadata": {},
     "output_type": "display_data"
    },
    {
     "data": {
      "image/png": "[encoded data removed]",
      "text/plain": [
       "<IPython.core.display.Image object>"
      ]
     },
     "metadata": {},
     "output_type": "display_data"
    }
   ],
   "source": [
    "plt.clf()\n",
    "plt.figure(constrained_layout=True)\n",
    "plt.barh(avg_rating_genre_pd['genre'],avg_rating_genre_pd['avg_rating'])\n",
    "plt.xlim(5,7.5)\n",
    "plt.gca().invert_yaxis()\n",
    "plt.xlabel(\"Avg Rating\")\n",
    "plt.ylabel(\"Genre\")\n",
    "plt.show()\n",
    "%matplot plt"
   ]
  },
  {
   "cell_type": "markdown",
   "id": "0cae0d39",
   "metadata": {},
   "source": [
    "## PART 3 - Analyzing Job Categories"
   ]
  },
  {
   "cell_type": "markdown",
   "id": "79d96276",
   "metadata": {},
   "source": [
    "## Total Unique Job Categories"
   ]
  },
  {
   "cell_type": "markdown",
   "id": "e7d31372",
   "metadata": {},
   "source": [
    "**What is the total number of unique job categories?**"
   ]
  },
  {
   "cell_type": "code",
   "execution_count": 24,
   "id": "d98a0f7e",
   "metadata": {},
   "outputs": [
    {
     "data": {
      "application/vnd.jupyter.widget-view+json": {
       "model_id": "969f4d705a334fa798081b8ede99e5e5",
       "version_major": 2,
       "version_minor": 0
      },
      "text/plain": [
       "VBox()"
      ]
     },
     "metadata": {},
     "output_type": "display_data"
    },
    {
     "data": {
      "application/vnd.jupyter.widget-view+json": {
       "model_id": "",
       "version_major": 2,
       "version_minor": 0
      },
      "text/plain": [
       "FloatProgress(value=0.0, bar_style='info', description='Progress:', layout=Layout(height='25px', width='50%'),…"
      ]
     },
     "metadata": {},
     "output_type": "display_data"
    },
    {
     "name": "stdout",
     "output_type": "stream",
     "text": [
      "12"
     ]
    }
   ],
   "source": [
    "movie_actors.select(\"category\").distinct().count()"
   ]
  },
  {
   "cell_type": "markdown",
   "id": "3c19f62b",
   "metadata": {},
   "source": [
    "**What are the unique job categories available?**"
   ]
  },
  {
   "cell_type": "code",
   "execution_count": 25,
   "id": "37eadfcc",
   "metadata": {},
   "outputs": [
    {
     "data": {
      "application/vnd.jupyter.widget-view+json": {
       "model_id": "286bccf472ed46a8bee15ba8b3427056",
       "version_major": 2,
       "version_minor": 0
      },
      "text/plain": [
       "VBox()"
      ]
     },
     "metadata": {},
     "output_type": "display_data"
    },
    {
     "data": {
      "application/vnd.jupyter.widget-view+json": {
       "model_id": "",
       "version_major": 2,
       "version_minor": 0
      },
      "text/plain": [
       "FloatProgress(value=0.0, bar_style='info', description='Progress:', layout=Layout(height='25px', width='50%'),…"
      ]
     },
     "metadata": {},
     "output_type": "display_data"
    },
    {
     "name": "stdout",
     "output_type": "stream",
     "text": [
      "+-------------------+\n",
      "|           category|\n",
      "+-------------------+\n",
      "|            actress|\n",
      "|           producer|\n",
      "|production_designer|\n",
      "|             writer|\n",
      "|              actor|\n",
      "|    cinematographer|\n",
      "|      archive_sound|\n",
      "|    archive_footage|\n",
      "|               self|\n",
      "|             editor|\n",
      "|           composer|\n",
      "|           director|\n",
      "+-------------------+"
     ]
    }
   ],
   "source": [
    "movie_actors.select(\"category\").distinct().show()"
   ]
  },
  {
   "cell_type": "markdown",
   "id": "59b33bb2",
   "metadata": {},
   "source": [
    "## Top Job Categories"
   ]
  },
  {
   "cell_type": "markdown",
   "id": "7f911dfc",
   "metadata": {},
   "source": [
    "Now let's find the top job categories in this dataset by rolling up categories."
   ]
  },
  {
   "cell_type": "markdown",
   "id": "1c0edd43",
   "metadata": {},
   "source": [
    "### Counts of Titles / Job Category"
   ]
  },
  {
   "cell_type": "markdown",
   "id": "001e3f3c",
   "metadata": {},
   "source": [
    "The expected output should be:\n",
    "\n",
    "| category | count |\n",
    "|-------------|------------|\n",
    "| a     | 15         |\n",
    "| b     | 2          |\n",
    "| c     | 45          |\n",
    "\n",
    "Or something to that effect."
   ]
  },
  {
   "cell_type": "code",
   "execution_count": 26,
   "id": "d6f8d689",
   "metadata": {},
   "outputs": [
    {
     "data": {
      "application/vnd.jupyter.widget-view+json": {
       "model_id": "2d28de3629bd4c08b4cdaeb71ac07fed",
       "version_major": 2,
       "version_minor": 0
      },
      "text/plain": [
       "VBox()"
      ]
     },
     "metadata": {},
     "output_type": "display_data"
    },
    {
     "data": {
      "application/vnd.jupyter.widget-view+json": {
       "model_id": "",
       "version_major": 2,
       "version_minor": 0
      },
      "text/plain": [
       "FloatProgress(value=0.0, bar_style='info', description='Progress:', layout=Layout(height='25px', width='50%'),…"
      ]
     },
     "metadata": {},
     "output_type": "display_data"
    },
    {
     "name": "stdout",
     "output_type": "stream",
     "text": [
      "+-------------------+-------+\n",
      "|           category|  count|\n",
      "+-------------------+-------+\n",
      "|              actor|8493701|\n",
      "|            actress|6325097|\n",
      "|               self|6153089|\n",
      "|             writer|4811596|\n",
      "|           director|4179106|\n",
      "|           producer|2197866|\n",
      "|           composer|1313187|\n",
      "|    cinematographer|1300404|\n",
      "|             editor|1197669|\n",
      "|production_designer| 285924|\n",
      "|    archive_footage| 209035|\n",
      "|      archive_sound|   2143|\n",
      "+-------------------+-------+"
     ]
    }
   ],
   "source": [
    "movie_actors.groupBy(\"category\").agg(count(\"*\").alias(\"count\")).orderBy(col(\"count\").desc()).show()"
   ]
  },
  {
   "cell_type": "markdown",
   "id": "96ce95b2",
   "metadata": {},
   "source": [
    "### Bar Chart of Top Job Categories\n",
    "\n",
    "With this data available, let us now build a barchart of the top 5 categories. \n",
    "\n",
    "**HINT**: don't forget about the matplotlib magic!\n",
    "\n",
    "```\n",
    "%matplot plt\n",
    "```"
   ]
  },
  {
   "cell_type": "code",
   "execution_count": 27,
   "id": "0af53ede",
   "metadata": {
    "scrolled": true
   },
   "outputs": [
    {
     "data": {
      "application/vnd.jupyter.widget-view+json": {
       "model_id": "e7d4e121717b49ff9485e5609d780085",
       "version_major": 2,
       "version_minor": 0
      },
      "text/plain": [
       "VBox()"
      ]
     },
     "metadata": {},
     "output_type": "display_data"
    },
    {
     "data": {
      "application/vnd.jupyter.widget-view+json": {
       "model_id": "",
       "version_major": 2,
       "version_minor": 0
      },
      "text/plain": [
       "FloatProgress(value=0.0, bar_style='info', description='Progress:', layout=Layout(height='25px', width='50%'),…"
      ]
     },
     "metadata": {},
     "output_type": "display_data"
    }
   ],
   "source": [
    "top_categories = movie_actors.groupBy(\"category\").agg(count(\"*\").alias(\"count\")).orderBy(col(\"count\").desc())\n",
    "top_categories_pd = top_categories.toPandas()\n",
    "top_categories_pd = top_categories_pd.head(5)"
   ]
  },
  {
   "cell_type": "code",
   "execution_count": 28,
   "id": "f397416a",
   "metadata": {
    "scrolled": true
   },
   "outputs": [
    {
     "data": {
      "application/vnd.jupyter.widget-view+json": {
       "model_id": "f277e4c11bd649dcb4b41c504ab7c112",
       "version_major": 2,
       "version_minor": 0
      },
      "text/plain": [
       "VBox()"
      ]
     },
     "metadata": {},
     "output_type": "display_data"
    },
    {
     "data": {
      "application/vnd.jupyter.widget-view+json": {
       "model_id": "",
       "version_major": 2,
       "version_minor": 0
      },
      "text/plain": [
       "FloatProgress(value=0.0, bar_style='info', description='Progress:', layout=Layout(height='25px', width='50%'),…"
      ]
     },
     "metadata": {},
     "output_type": "display_data"
    },
    {
     "data": {
      "image/png": "[encoded data removed]",
      "text/plain": [
       "<IPython.core.display.Image object>"
      ]
     },
     "metadata": {},
     "output_type": "display_data"
    }
   ],
   "source": [
    "plt.clf()\n",
    "plt.figure(constrained_layout=True)\n",
    "plt.bar(top_categories_pd['category'],top_categories_pd['count'])\n",
    "plt.xlabel(\"Job Category\")\n",
    "plt.ylabel(\"Count\")\n",
    "plt.show()\n",
    "%matplot plt"
   ]
  },
  {
   "cell_type": "markdown",
   "id": "c5a31583",
   "metadata": {},
   "source": [
    "# PART 4 - Answer to the following questions:"
   ]
  },
  {
   "cell_type": "markdown",
   "id": "76917365",
   "metadata": {},
   "source": [
    "## 1) Find all the movies acted by both Johnny Depp and Helena Bonham Carter"
   ]
  },
  {
   "cell_type": "markdown",
   "id": "c4600ef2",
   "metadata": {},
   "source": [
    "First join actors, genres, and movie actors on each other\n",
    "\n",
    "Note: Your code should meet all the requirements"
   ]
  },
  {
   "cell_type": "code",
   "execution_count": 29,
   "id": "08ceca59",
   "metadata": {},
   "outputs": [
    {
     "data": {
      "application/vnd.jupyter.widget-view+json": {
       "model_id": "8ca2266d63ad4297862a7bb17d58c6c3",
       "version_major": 2,
       "version_minor": 0
      },
      "text/plain": [
       "VBox()"
      ]
     },
     "metadata": {},
     "output_type": "display_data"
    },
    {
     "data": {
      "application/vnd.jupyter.widget-view+json": {
       "model_id": "",
       "version_major": 2,
       "version_minor": 0
      },
      "text/plain": [
       "FloatProgress(value=0.0, bar_style='info', description='Progress:', layout=Layout(height='25px', width='50%'),…"
      ]
     },
     "metadata": {},
     "output_type": "display_data"
    },
    {
     "name": "stdout",
     "output_type": "stream",
     "text": [
      "+----------------------------------------------+\n",
      "|primaryTitle                                  |\n",
      "+----------------------------------------------+\n",
      "|Corpse Bride                                  |\n",
      "|Dark Shadows                                  |\n",
      "|Charlie and the Chocolate Factory             |\n",
      "|Alice Through the Looking Glass               |\n",
      "|Sweeney Todd: The Demon Barber of Fleet Street|\n",
      "|Alice in Wonderland                           |\n",
      "+----------------------------------------------+"
     ]
    }
   ],
   "source": [
    "movie_actors_actors = movie_actors.filter((movie_actors.category ==\"actor\")|(movie_actors.category ==\"actress\")).join(actors,movie_actors.nconst==actors.nconst,\"inner\")\n",
    "\n",
    "movie_actors_genre = movie_actors_actors.join(genres,movie_actors_actors.tconst==genres.tconst,\"inner\")\n",
    "\n",
    "\n",
    "JohnnyHelena = movie_actors_genre.filter(((col(\"primaryName\")==\"Johnny Depp\")|(col(\"primaryName\")==\"Helena Bonham Carter\"))&(col(\"titleType\")==\"movie\"))\n",
    "JohnnyHelena.groupBy(\"primaryTitle\").agg(count(\"*\").alias(\"Count\")).filter(col(\"Count\")>1).select(\"primaryTitle\").show(truncate=False)"
   ]
  },
  {
   "cell_type": "markdown",
   "id": "39452206",
   "metadata": {},
   "source": [
    "## 2) Find all the movies acted by Brad Pitt after 2010.\n",
    "\n",
    "Note: Your code should meet all the requirements"
   ]
  },
  {
   "cell_type": "code",
   "execution_count": 30,
   "id": "c536eb48",
   "metadata": {},
   "outputs": [
    {
     "data": {
      "application/vnd.jupyter.widget-view+json": {
       "model_id": "f3a7db48593648899a0a174a35fe5569",
       "version_major": 2,
       "version_minor": 0
      },
      "text/plain": [
       "VBox()"
      ]
     },
     "metadata": {},
     "output_type": "display_data"
    },
    {
     "data": {
      "application/vnd.jupyter.widget-view+json": {
       "model_id": "",
       "version_major": 2,
       "version_minor": 0
      },
      "text/plain": [
       "FloatProgress(value=0.0, bar_style='info', description='Progress:', layout=Layout(height='25px', width='50%'),…"
      ]
     },
     "metadata": {},
     "output_type": "display_data"
    },
    {
     "name": "stdout",
     "output_type": "stream",
     "text": [
      "+---------------------------------+---------+\n",
      "|primaryTitle                     |startYear|\n",
      "+---------------------------------+---------+\n",
      "|The Tree of Life                 |2011     |\n",
      "|Moneyball                        |2011     |\n",
      "|Killing Them Softly              |2012     |\n",
      "|12 Years a Slave                 |2013     |\n",
      "|World War Z                      |2013     |\n",
      "|Fury                             |2014     |\n",
      "|The Big Short                    |2015     |\n",
      "|By the Sea                       |2015     |\n",
      "|Allied                           |2016     |\n",
      "|War Machine                      |2017     |\n",
      "|Ad Astra                         |2019     |\n",
      "|Once Upon a Time ... in Hollywood|2019     |\n",
      "|Babylon                          |2021     |\n",
      "+---------------------------------+---------+"
     ]
    }
   ],
   "source": [
    "movie_actors_genre.filter((col(\"primaryName\")==\"Brad Pitt\")&(col(\"titleType\")==\"movie\")&(col(\"startYear\")>2010)).orderBy(col(\"startYear\").asc()).select(\"primaryTitle\",\"startYear\").show(truncate=False)"
   ]
  },
  {
   "cell_type": "markdown",
   "id": "67fc41d2",
   "metadata": {},
   "source": [
    "## 3) What is the number of movies acted by Zendaya per year?"
   ]
  },
  {
   "cell_type": "markdown",
   "id": "9ba78128",
   "metadata": {},
   "source": [
    "Note: Your code should meet all the requirements"
   ]
  },
  {
   "cell_type": "code",
   "execution_count": 31,
   "id": "c605ce7b",
   "metadata": {},
   "outputs": [
    {
     "data": {
      "application/vnd.jupyter.widget-view+json": {
       "model_id": "ea0ef2278bac4f4ca88c452c7d1445d6",
       "version_major": 2,
       "version_minor": 0
      },
      "text/plain": [
       "VBox()"
      ]
     },
     "metadata": {},
     "output_type": "display_data"
    },
    {
     "data": {
      "application/vnd.jupyter.widget-view+json": {
       "model_id": "",
       "version_major": 2,
       "version_minor": 0
      },
      "text/plain": [
       "FloatProgress(value=0.0, bar_style='info', description='Progress:', layout=Layout(height='25px', width='50%'),…"
      ]
     },
     "metadata": {},
     "output_type": "display_data"
    },
    {
     "name": "stdout",
     "output_type": "stream",
     "text": [
      "+---------+-----+\n",
      "|startYear|count|\n",
      "+---------+-----+\n",
      "|2020     |1    |\n",
      "|2018     |2    |\n",
      "|2017     |1    |\n",
      "+---------+-----+"
     ]
    }
   ],
   "source": [
    "movie_actors_genre.filter((col(\"primaryName\")==\"Zendaya\")&(col(\"titleType\")==\"movie\")&(col(\"startyear\")!= \"\\\\N\")).groupBy(\"startYear\").count().show(truncate=False)"
   ]
  },
  {
   "cell_type": "markdown",
   "id": "fa3cb1dd",
   "metadata": {},
   "source": [
    "## 4) What are the movies by average rating greater than 9.7 and released in 2019?"
   ]
  },
  {
   "cell_type": "markdown",
   "id": "ac3b023b",
   "metadata": {},
   "source": [
    "Note: Your code should meet all the requirements"
   ]
  },
  {
   "cell_type": "code",
   "execution_count": 32,
   "id": "366703ab",
   "metadata": {},
   "outputs": [
    {
     "data": {
      "application/vnd.jupyter.widget-view+json": {
       "model_id": "6d8876ef4cc749248bddcc1bf7554901",
       "version_major": 2,
       "version_minor": 0
      },
      "text/plain": [
       "VBox()"
      ]
     },
     "metadata": {},
     "output_type": "display_data"
    },
    {
     "data": {
      "application/vnd.jupyter.widget-view+json": {
       "model_id": "",
       "version_major": 2,
       "version_minor": 0
      },
      "text/plain": [
       "FloatProgress(value=0.0, bar_style='info', description='Progress:', layout=Layout(height='25px', width='50%'),…"
      ]
     },
     "metadata": {},
     "output_type": "display_data"
    },
    {
     "name": "stdout",
     "output_type": "stream",
     "text": [
      "+--------------------+-------------+\n",
      "|        primaryTitle|averageRating|\n",
      "+--------------------+-------------+\n",
      "|Puritan: All of L...|          9.9|\n",
      "|        The Cardinal|          9.9|\n",
      "|         Superhombre|          9.9|\n",
      "|Kamen Rider Zi-O:...|          9.8|\n",
      "|     Time and motion|          9.8|\n",
      "|We Shall Not Die Now|          9.8|\n",
      "|          Square One|          9.8|\n",
      "|            Randhawa|          9.8|\n",
      "|   From Shock to Awe|          9.8|\n",
      "|   Gini Helida Kathe|          9.8|\n",
      "|              Kirket|         10.0|\n",
      "|   Our Scripted Life|         10.0|\n",
      "|The Twilight Zone...|         10.0|\n",
      "|      A Grunt's Life|         10.0|\n",
      "|Bu Can Var Oldugu...|         10.0|\n",
      "|   L'Enfant Terrible|         10.0|\n",
      "| The Butcher Baronet|         10.0|\n",
      "|A Medicine for th...|         10.0|\n",
      "|    Love in Kilnerry|         10.0|\n",
      "+--------------------+-------------+"
     ]
    }
   ],
   "source": [
    "movie_ratings_genres = movie_ratings.join(genres,movie_ratings.tconst==genres.tconst,\"inner\")\n",
    "\n",
    "movie_ratings_genres.filter((col(\"startYear\")==2019)&(col(\"averageRating\")>9.7)&(col(\"titleType\")==\"movie\")).orderBy(col(\"averageRating\").desc()).select(\"primaryTitle\",\"averageRating\").show()"
   ]
  },
  {
   "cell_type": "markdown",
   "id": "a33b20a6",
   "metadata": {},
   "source": [
    "## Extra Credit - Analysis of your choice (1.5 pts)\n",
    "\n",
    "Try and analyze some interesting dimension to this data. You should specify the name of the analysis in your Project2_Analysis.ipynb. This part similar to Part 2 and Part 3. Use different columns. \n",
    "\n",
    "•\tYou must create at least one visual."
   ]
  },
  {
   "cell_type": "markdown",
   "id": "b352b210",
   "metadata": {},
   "source": [
    "3 actors with the most number of movies"
   ]
  },
  {
   "cell_type": "code",
   "execution_count": 33,
   "id": "fcf5ad84",
   "metadata": {
    "scrolled": true
   },
   "outputs": [
    {
     "data": {
      "application/vnd.jupyter.widget-view+json": {
       "model_id": "3bdbe18ecbcd40b0b1d85736d668fc5c",
       "version_major": 2,
       "version_minor": 0
      },
      "text/plain": [
       "VBox()"
      ]
     },
     "metadata": {},
     "output_type": "display_data"
    },
    {
     "data": {
      "application/vnd.jupyter.widget-view+json": {
       "model_id": "",
       "version_major": 2,
       "version_minor": 0
      },
      "text/plain": [
       "FloatProgress(value=0.0, bar_style='info', description='Progress:', layout=Layout(height='25px', width='50%'),…"
      ]
     },
     "metadata": {},
     "output_type": "display_data"
    },
    {
     "data": {
      "image/png": "[encoded data removed]",
      "text/plain": [
       "<IPython.core.display.Image object>"
      ]
     },
     "metadata": {},
     "output_type": "display_data"
    }
   ],
   "source": [
    "movie_actors_actors = movie_actors.filter((movie_actors.category ==\"actor\")|(movie_actors.category ==\"actress\")).join(actors,movie_actors.nconst==actors.nconst,\"inner\")\n",
    "\n",
    "actor_movie_total = movie_actors_actors.join(genres,movie_actors_actors.tconst==genres.tconst,\"inner\").filter((col(\"titleType\")==\"movie\")).groupBy(\"primaryName\").agg(count(\"*\").alias(\"movie_count\")).orderBy(col(\"movie_count\").desc()).toPandas()\n",
    "\n",
    "top3 = actor_movie_total.head(3)\n",
    "plt.clf()\n",
    "plt.barh(top3['primaryName'],top3['movie_count'])\n",
    "plt.gca().invert_yaxis()\n",
    "plt.xlabel(\"Number of Movies\")\n",
    "plt.ylabel(\"Actor\")\n",
    "%matplot plt"
   ]
  },
  {
   "cell_type": "markdown",
   "id": "f073dc95",
   "metadata": {},
   "source": [
    "# Extra Credit - Answering a question of your choice (1.5 pts)\n",
    "\n",
    "Come up an answer to a question like in Part 4. The question of your choice should not be similar to the ones given in Part 4. Try to find an interesting question using different columns (i.e. num_votes, runtime). You should specify the question in Project2_Analysis.ipynb. \n",
    "\n",
    "•\tYou must join at least two datasets."
   ]
  },
  {
   "cell_type": "code",
   "execution_count": null,
   "id": "e46224f5",
   "metadata": {},
   "outputs": [],
   "source": []
  }
 ],
 "metadata": {
  "kernelspec": {
   "display_name": "PySpark",
   "language": "",
   "name": "pysparkkernel"
  },
  "language_info": {
   "codemirror_mode": {
    "name": "python",
    "version": 2
   },
   "mimetype": "text/x-python",
   "name": "pyspark",
   "pygments_lexer": "python2"
  }
 },
 "nbformat": 4,
 "nbformat_minor": 5
}
